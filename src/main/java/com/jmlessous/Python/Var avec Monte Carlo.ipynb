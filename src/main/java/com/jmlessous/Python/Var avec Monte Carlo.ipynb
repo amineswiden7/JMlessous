{
 "cells": [
  {
   "cell_type": "code",
   "execution_count": 1,
   "metadata": {},
   "outputs": [
    {
     "name": "stdout",
     "output_type": "stream",
     "text": [
      "Defaulting to user installation because normal site-packages is not writeable\n",
      "Requirement already satisfied: pandas in c:\\users\\hanto\\appdata\\roaming\\python\\python39\\site-packages (1.5.1)\n",
      "Requirement already satisfied: pytz>=2020.1 in c:\\users\\hanto\\appdata\\roaming\\python\\python39\\site-packages (from pandas) (2022.6)\n",
      "Requirement already satisfied: python-dateutil>=2.8.1 in c:\\users\\hanto\\appdata\\roaming\\python\\python39\\site-packages (from pandas) (2.8.2)\n",
      "Requirement already satisfied: numpy>=1.20.3 in c:\\users\\hanto\\appdata\\roaming\\python\\python39\\site-packages (from pandas) (1.22.3)\n",
      "Requirement already satisfied: six>=1.5 in c:\\users\\hanto\\appdata\\roaming\\python\\python39\\site-packages (from python-dateutil>=2.8.1->pandas) (1.16.0)\n"
     ]
    },
    {
     "name": "stderr",
     "output_type": "stream",
     "text": [
      "WARNING: You are using pip version 22.0.4; however, version 22.3.1 is available.\n",
      "You should consider upgrading via the 'C:\\Program Files\\Python39\\python.exe -m pip install --upgrade pip' command.\n"
     ]
    },
    {
     "name": "stdout",
     "output_type": "stream",
     "text": [
      "Defaulting to user installation because normal site-packages is not writeable\n",
      "Requirement already satisfied: matplotlib in c:\\users\\hanto\\appdata\\roaming\\python\\python39\\site-packages (3.6.1)\n",
      "Requirement already satisfied: numpy>=1.19 in c:\\users\\hanto\\appdata\\roaming\\python\\python39\\site-packages (from matplotlib) (1.22.3)\n",
      "Requirement already satisfied: packaging>=20.0 in c:\\users\\hanto\\appdata\\roaming\\python\\python39\\site-packages (from matplotlib) (21.3)\n",
      "Requirement already satisfied: python-dateutil>=2.7 in c:\\users\\hanto\\appdata\\roaming\\python\\python39\\site-packages (from matplotlib) (2.8.2)\n",
      "Requirement already satisfied: pyparsing>=2.2.1 in c:\\users\\hanto\\appdata\\roaming\\python\\python39\\site-packages (from matplotlib) (3.0.7)\n",
      "Requirement already satisfied: fonttools>=4.22.0 in c:\\users\\hanto\\appdata\\roaming\\python\\python39\\site-packages (from matplotlib) (4.38.0)\n",
      "Requirement already satisfied: kiwisolver>=1.0.1 in c:\\users\\hanto\\appdata\\roaming\\python\\python39\\site-packages (from matplotlib) (1.4.4)\n",
      "Requirement already satisfied: cycler>=0.10 in c:\\users\\hanto\\appdata\\roaming\\python\\python39\\site-packages (from matplotlib) (0.11.0)\n",
      "Requirement already satisfied: pillow>=6.2.0 in c:\\users\\hanto\\appdata\\roaming\\python\\python39\\site-packages (from matplotlib) (9.1.0)\n",
      "Requirement already satisfied: contourpy>=1.0.1 in c:\\users\\hanto\\appdata\\roaming\\python\\python39\\site-packages (from matplotlib) (1.0.6)\n",
      "Requirement already satisfied: six>=1.5 in c:\\users\\hanto\\appdata\\roaming\\python\\python39\\site-packages (from python-dateutil>=2.7->matplotlib) (1.16.0)\n"
     ]
    },
    {
     "name": "stderr",
     "output_type": "stream",
     "text": [
      "WARNING: You are using pip version 22.0.4; however, version 22.3.1 is available.\n",
      "You should consider upgrading via the 'C:\\Program Files\\Python39\\python.exe -m pip install --upgrade pip' command.\n"
     ]
    },
    {
     "name": "stdout",
     "output_type": "stream",
     "text": [
      "Defaulting to user installation because normal site-packages is not writeable\n",
      "Requirement already satisfied: spicy in c:\\users\\hanto\\appdata\\roaming\\python\\python39\\site-packages (0.16.0)\n",
      "Requirement already satisfied: scipy in c:\\users\\hanto\\appdata\\roaming\\python\\python39\\site-packages (from spicy) (1.9.3)\n",
      "Requirement already satisfied: numpy<1.26.0,>=1.18.5 in c:\\users\\hanto\\appdata\\roaming\\python\\python39\\site-packages (from scipy->spicy) (1.22.3)\n"
     ]
    },
    {
     "name": "stderr",
     "output_type": "stream",
     "text": [
      "WARNING: You are using pip version 22.0.4; however, version 22.3.1 is available.\n",
      "You should consider upgrading via the 'C:\\Program Files\\Python39\\python.exe -m pip install --upgrade pip' command.\n"
     ]
    },
    {
     "name": "stdout",
     "output_type": "stream",
     "text": [
      "Defaulting to user installation because normal site-packages is not writeable\n",
      "Requirement already satisfied: requests in c:\\users\\hanto\\appdata\\roaming\\python\\python39\\site-packages (2.28.1)\n",
      "Requirement already satisfied: certifi>=2017.4.17 in c:\\users\\hanto\\appdata\\roaming\\python\\python39\\site-packages (from requests) (2022.9.24)\n",
      "Requirement already satisfied: idna<4,>=2.5 in c:\\users\\hanto\\appdata\\roaming\\python\\python39\\site-packages (from requests) (3.4)\n",
      "Requirement already satisfied: urllib3<1.27,>=1.21.1 in c:\\users\\hanto\\appdata\\roaming\\python\\python39\\site-packages (from requests) (1.26.13)\n",
      "Requirement already satisfied: charset-normalizer<3,>=2 in c:\\users\\hanto\\appdata\\roaming\\python\\python39\\site-packages (from requests) (2.1.1)\n"
     ]
    },
    {
     "name": "stderr",
     "output_type": "stream",
     "text": [
      "WARNING: You are using pip version 22.0.4; however, version 22.3.1 is available.\n",
      "You should consider upgrading via the 'C:\\Program Files\\Python39\\python.exe -m pip install --upgrade pip' command.\n"
     ]
    }
   ],
   "source": [
    "!pip install pandas\n",
    "!pip install matplotlib\n",
    "!pip install spicy\n",
    "!pip install requests\n"
   ]
  },
  {
   "cell_type": "code",
   "execution_count": 2,
   "metadata": {},
   "outputs": [
    {
     "name": "stdout",
     "output_type": "stream",
     "text": [
      "Defaulting to user installation because normal site-packages is not writeable\n",
      "Requirement already satisfied: fastapi in c:\\users\\hanto\\appdata\\roaming\\python\\python39\\site-packages (0.88.0)\n",
      "Requirement already satisfied: starlette==0.22.0 in c:\\users\\hanto\\appdata\\roaming\\python\\python39\\site-packages (from fastapi) (0.22.0)\n",
      "Requirement already satisfied: pydantic!=1.7,!=1.7.1,!=1.7.2,!=1.7.3,!=1.8,!=1.8.1,<2.0.0,>=1.6.2 in c:\\users\\hanto\\appdata\\roaming\\python\\python39\\site-packages (from fastapi) (1.10.2)\n",
      "Requirement already satisfied: typing-extensions>=3.10.0 in c:\\users\\hanto\\appdata\\roaming\\python\\python39\\site-packages (from starlette==0.22.0->fastapi) (4.4.0)\n",
      "Requirement already satisfied: anyio<5,>=3.4.0 in c:\\users\\hanto\\appdata\\roaming\\python\\python39\\site-packages (from starlette==0.22.0->fastapi) (3.6.2)\n",
      "Requirement already satisfied: sniffio>=1.1 in c:\\users\\hanto\\appdata\\roaming\\python\\python39\\site-packages (from anyio<5,>=3.4.0->starlette==0.22.0->fastapi) (1.3.0)\n",
      "Requirement already satisfied: idna>=2.8 in c:\\users\\hanto\\appdata\\roaming\\python\\python39\\site-packages (from anyio<5,>=3.4.0->starlette==0.22.0->fastapi) (3.4)\n"
     ]
    },
    {
     "name": "stderr",
     "output_type": "stream",
     "text": [
      "WARNING: You are using pip version 22.0.4; however, version 22.3.1 is available.\n",
      "You should consider upgrading via the 'C:\\Program Files\\Python39\\python.exe -m pip install --upgrade pip' command.\n"
     ]
    },
    {
     "name": "stdout",
     "output_type": "stream",
     "text": [
      "Defaulting to user installation because normal site-packages is not writeable\n",
      "Requirement already satisfied: uvicorn in c:\\users\\hanto\\appdata\\roaming\\python\\python39\\site-packages (0.20.0)\n",
      "Requirement already satisfied: h11>=0.8 in c:\\users\\hanto\\appdata\\roaming\\python\\python39\\site-packages (from uvicorn) (0.14.0)\n",
      "Requirement already satisfied: click>=7.0 in c:\\users\\hanto\\appdata\\roaming\\python\\python39\\site-packages (from uvicorn) (8.1.3)\n",
      "Requirement already satisfied: colorama in c:\\users\\hanto\\appdata\\roaming\\python\\python39\\site-packages (from click>=7.0->uvicorn) (0.4.6)\n"
     ]
    },
    {
     "name": "stderr",
     "output_type": "stream",
     "text": [
      "WARNING: You are using pip version 22.0.4; however, version 22.3.1 is available.\n",
      "You should consider upgrading via the 'C:\\Program Files\\Python39\\python.exe -m pip install --upgrade pip' command.\n"
     ]
    },
    {
     "name": "stdout",
     "output_type": "stream",
     "text": [
      "Defaulting to user installation because normal site-packages is not writeable\n",
      "Requirement already satisfied: nest_asyncio in c:\\users\\hanto\\appdata\\roaming\\python\\python39\\site-packages (1.5.6)\n"
     ]
    },
    {
     "name": "stderr",
     "output_type": "stream",
     "text": [
      "WARNING: You are using pip version 22.0.4; however, version 22.3.1 is available.\n",
      "You should consider upgrading via the 'C:\\Program Files\\Python39\\python.exe -m pip install --upgrade pip' command.\n"
     ]
    }
   ],
   "source": [
    "!pip install fastapi\n",
    "!pip install uvicorn \n",
    "!pip install nest_asyncio"
   ]
  },
  {
   "cell_type": "code",
   "execution_count": 26,
   "metadata": {},
   "outputs": [
    {
     "name": "stderr",
     "output_type": "stream",
     "text": [
      "WARNING: You are using pip version 22.0.4; however, version 22.3.1 is available."
     ]
    },
    {
     "name": "stdout",
     "output_type": "stream",
     "text": [
      "Defaulting to user installation because normal site-packages is not writeable\n",
      "Collecting beautifulsoup4\n",
      "  Downloading beautifulsoup4-4.11.1-py3-none-any.whl (128 kB)\n",
      "     ------------------------------------ 128.2/128.2 KB 503.9 kB/s eta 0:00:00\n",
      "Collecting soupsieve>1.2\n",
      "  Downloading soupsieve-2.3.2.post1-py3-none-any.whl (37 kB)\n",
      "Installing collected packages: soupsieve, beautifulsoup4\n",
      "Successfully installed beautifulsoup4-4.11.1 soupsieve-2.3.2.post1\n"
     ]
    },
    {
     "name": "stderr",
     "output_type": "stream",
     "text": [
      "\n",
      "You should consider upgrading via the 'C:\\Program Files\\Python39\\python.exe -m pip install --upgrade pip' command.\n"
     ]
    }
   ],
   "source": [
    "!pip install beautifulsoup4"
   ]
  },
  {
   "cell_type": "code",
   "execution_count": 2,
   "metadata": {},
   "outputs": [],
   "source": [
    "import datetime as dt, numpy as np,pandas as pd, matplotlib.pyplot as plt\n",
    "from scipy.stats import norm\n",
    "import requests\n",
    "from fastapi import FastAPI\n",
    "import nest_asyncio\n",
    "import uvicorn\n",
    "from fastapi.middleware.cors import CORSMiddleware"
   ]
  },
  {
   "cell_type": "code",
   "execution_count": 3,
   "metadata": {},
   "outputs": [],
   "source": [
    "from bs4 import BeautifulSoup"
   ]
  },
  {
   "cell_type": "code",
   "execution_count": 4,
   "metadata": {},
   "outputs": [],
   "source": [
    "app = FastAPI()\n",
    "\n",
    "origins = [\n",
    "    \"http://localhost:4200\"\n",
    "]\n",
    "app.add_middleware(\n",
    "    CORSMiddleware,\n",
    "    allow_origins=origins,\n",
    "    allow_credentials=True,\n",
    "    allow_methods=[\"*\"],\n",
    "    allow_headers=[\"*\"],\n",
    ")"
   ]
  },
  {
   "cell_type": "markdown",
   "metadata": {},
   "source": [
    "\n",
    "\n",
    "@app.get(\"/PortfeuilleVar\")\n",
    "def port_VaR(stock_return,exposure,CI,days):\n",
    "    stocks_return=pd.DataFrame(stock_return)\n",
    "    stocks_return.dropna(axis=1,inplace=True)\n",
    "    stock_return=stock_return.T\n",
    "\n",
    "    stock_return=pd.DataFrame.pct_change(stock_return)\n",
    "    \n",
    "    stock_return = stock_return.drop(labels=0, axis=0)\n",
    "    \n",
    "    stock_vol=stock_return.std()\n",
    "    CL = norm.ppf(CI/100)\n",
    "\n",
    "   \n",
    "    #Portfolio variance covariance matrice\n",
    "    stock_cov = np.array(np.cov(np.array(stock_return.T)))\n",
    "    print(stock_cov)\n",
    "    #Stock poids\n",
    "\n",
    "    poids = np.array(exposure)/sum(exposure)\n",
    "    poids_mat = np.mat(poids)\n",
    "    \n",
    "    #Portfolio variance\n",
    "       \n",
    "    por_var = (poids_mat*stock_cov) * poids_mat.T\n",
    "    print(por_var)\n",
    "    \n",
    "    #Portfolio VaR\n",
    "\n",
    "    por_VaR = np.sqrt(por_var)* CL *np.sqrt(days)\n",
    "     \n",
    "    return por_VaR[0,0]\n",
    "\n"
   ]
  },
  {
   "cell_type": "code",
   "execution_count": 5,
   "metadata": {},
   "outputs": [],
   "source": [
    "\n",
    "@app.get(\"/PortfeuilleVar/{id}/{CI}/{days}\")\n",
    "def port_VaR(id,CI:int,days:int):\n",
    "\n",
    "    api_url = \"http://localhost:8083/JMLessous/getCapitals/\"+str(id)\n",
    "    response = requests.get(api_url)\n",
    "    exposure=response.json()\n",
    "\n",
    "    api_url = \"http://localhost:8083/JMLessous/portfeuilleCloses/\"+str(id)\n",
    "    response = requests.get(api_url)\n",
    "    stocks_return=pd.DataFrame(response.json())\n",
    "    stocks_return=pd.DataFrame(stocks_return)\n",
    "    stocks_return.dropna(axis=1,inplace=True)\n",
    "    stocks_return=stocks_return.T\n",
    "\n",
    "    stocks_return=pd.DataFrame.pct_change(stocks_return)\n",
    "    \n",
    "    stocks_return = stocks_return.drop(labels=0, axis=0)\n",
    "    \n",
    "    stock_vol=stocks_return.std()\n",
    "    CL = norm.ppf(CI/100)\n",
    "\n",
    "   \n",
    "    #Portfolio variance covariance matrice\n",
    "    stock_cov = np.array(np.cov(np.array(stocks_return.T)))\n",
    "    print(stock_cov)\n",
    "    #Stock poids\n",
    "\n",
    "    poids = np.array(exposure)/sum(exposure)\n",
    "    poids_mat = np.mat(poids)\n",
    "    \n",
    "    #Portfolio variance\n",
    "       \n",
    "    por_var = (poids_mat*stock_cov) * poids_mat.T\n",
    "    print(por_var)\n",
    "    \n",
    "    #Portfolio VaR\n",
    "\n",
    "    por_VaR = np.sqrt(por_var)* CL *np.sqrt(days)\n",
    "     \n",
    "    return por_VaR[0,0]\n",
    "\n"
   ]
  },
  {
   "cell_type": "markdown",
   "metadata": {},
   "source": [
    "api_url = \"http://localhost:8083/JMLessous/portfeuilleCloses/2\"\n",
    "response = requests.get(api_url)\n",
    "#stocks_return= pd.DataFrame()\n",
    "stocks_return=pd.DataFrame(response.json())\n",
    "stocks_return.dropna(axis=1,inplace=True)\n",
    "stocks_return.T\n",
    "\n",
    "\n"
   ]
  },
  {
   "cell_type": "markdown",
   "metadata": {},
   "source": [
    "api_url = \"http://localhost:8083/JMLessous/getCapitals/2\"\n",
    "response = requests.get(api_url)\n",
    "\n",
    "exposure=response.json()\n",
    "\n",
    "exposure"
   ]
  },
  {
   "cell_type": "code",
   "execution_count": 6,
   "metadata": {},
   "outputs": [],
   "source": [
    "@app.get(\"/getAllActu\")\n",
    "def getAllActu():\n",
    "    url = \"https://www.ilboursa.com/\"\n",
    "\n",
    "    ilboursa = requests.get(url)\n",
    "    doc = BeautifulSoup(ilboursa.text,\"html.parser\")\n",
    "    tags = doc.find_all([\"div\"],class_=\"alct\")\n",
    "    date_tags = doc.find_all([\"div\"],class_=\"rubDateLf\")\n",
    "    dates = []\n",
    "    liens = []\n",
    "    titres = []\n",
    "\n",
    "    for date in date_tags :\n",
    "        dates.append(date.text.strip())\n",
    "\n",
    "    for tag in tags :\n",
    "        liens.append(tag.findChild(\"a\")[\"href\"])\n",
    "        titres.append(tag.findChild(\"a\").text)\n",
    "        \n",
    "\n",
    "    actualites = list(zip(dates,liens,titres))\n",
    "    print(actualites)\n",
    "    \n",
    "    return actualites"
   ]
  },
  {
   "cell_type": "code",
   "execution_count": 7,
   "metadata": {},
   "outputs": [],
   "source": [
    "@app.get(\"/getProdActu/{ticker}\")\n",
    "def getProdActu(ticker:str):\n",
    "    print(ticker)\n",
    "    url = \"https://www.ilboursa.com/marches/cotation_\"+ticker\n",
    "    \n",
    "    print(url)\n",
    "    ilboursaProd = requests.get(url)\n",
    "    doc = BeautifulSoup(ilboursaProd.text,\"html.parser\")\n",
    "    div_tag = doc.find([\"div\"],class_=\"lh25\")\n",
    "    dates = []\n",
    "    liens = []\n",
    "    titres = []\n",
    "    #print(div_tag.findChildren(\"a\"))\n",
    "    for tag in div_tag.findChildren(\"span\") :\n",
    "        dates.append(tag.text.strip())\n",
    "\n",
    "    for tag in div_tag.findChildren(\"a\") :\n",
    "        liens.append(tag[\"href\"])\n",
    "        titres.append(tag.text)\n",
    "            \n",
    "\n",
    "    actualites = list(zip(dates,liens,titres))\n",
    "    print(actualites)\n",
    "    \n",
    "    return actualites"
   ]
  },
  {
   "cell_type": "code",
   "execution_count": 8,
   "metadata": {},
   "outputs": [
    {
     "name": "stderr",
     "output_type": "stream",
     "text": [
      "INFO:     Started server process [9340]\n",
      "INFO:     Waiting for application startup.\n",
      "INFO:     Application startup complete.\n",
      "INFO:     Uvicorn running on http://127.0.0.1:8000 (Press CTRL+C to quit)\n"
     ]
    },
    {
     "name": "stdout",
     "output_type": "stream",
     "text": [
      "INFO:     127.0.0.1:60632 - \"GET /getAllActu/ HTTP/1.1\" 307 Temporary Redirect\n",
      "[('30 décembre - 16:43', 'marches/le-tmm-du-mois-de-decembre-recule-legerement-a-7-26_38563', 'Le TMM du mois de décembre recule légèrement à 7,26%'), ('30 décembre - 11:14', 'marches/la-bct-releve-son-taux-directeur-et-le-taux-de-remuneration-de-lepargne-de-75-points_38560', 'La BCT relève son taux directeur et le taux de rémunération de l’épargne de 75 points'), ('29 décembre - 19:55', 'marches/la-cloche-de-la-bourse-sonne-la-premiere-cotation-de-maghrebia-vie_38555', 'La cloche de la Bourse sonne la première cotation de Maghrebia Vie'), ('28 décembre - 08:11', 'marches/sonede-international-augmentation-de-capital-realisee-dans-la-limite-de-85_38553', 'SONEDE International : Augmentation de capital réalisée dans la limite de 85%')]\n",
      "INFO:     127.0.0.1:60632 - \"GET /getAllActu HTTP/1.1\" 200 OK\n",
      "INFO:     127.0.0.1:60749 - \"OPTIONS /getProdActu/AB HTTP/1.1\" 200 OK\n",
      "AB\n",
      "https://www.ilboursa.com/marches/cotation_AB\n",
      "[('09/12/22', '/marches/amen-bank-et-amen-first-bank-remportent-le-prestigieux-label-elu-service-client-de-lannee-2023_38234', 'AMEN BANK et AMEN First Bank remportent le prestigieux label «Elu Service Client De l’Année 2023»'), ('08/12/22', '/marches/amen-bank-et-amen-invest-renouvellent-leur-contrat-de-liquidite_38211', 'Amen Bank et Amen Invest renouvellent leur contrat de liquidité'), ('03/12/22', '/marches/amen-bank-et-amen-first-bank-remportent-le-prix-elu-service-client-de-lannee-2023_38127', 'AMEN Bank et AMEN First Bank remportent le prix Elu Service Client de l’Année 2023'), ('18/11/22', '/marches/avec-amenpay-il-est-desormais-possible-de-payer-les-factures-des-services-publics_37881', 'Avec AmenPay, il est désormais possible de payer les factures des services publics'), ('11/11/22', '/marches/amen-bank-annonce-l-augmentation-de-son-capital_37752', \"AMEN BANK annonce l'augmentation de son capital\"), ('22/10/22', '/marches/amen-bank-ameliore-de-8-son-pnb-a-fin-septembre-a-pres-de-370-millions-de-dinars_37344', 'Amen Bank améliore de 8% son PNB à fin septembre à près de 370 millions de dinars'), ('13/10/22', '/marches/ola-energy-et-le-pole-agroalimentaire-damen-group-signent-une-convention-de-partenariat_37135', 'OLA Energy et le Pôle Agroalimentaire d’Amen Group signent une convention de partenariat'), ('30/09/22', '/marches/amen-bank-leve-avec-succes-40-millions-de-dinars-sur-le-marche-obligataire_36871', 'Amen Bank lève avec succès 40 millions de dinars sur le marché obligataire')]\n",
      "INFO:     127.0.0.1:60749 - \"GET /getProdActu/AB HTTP/1.1\" 200 OK\n",
      "INFO:     127.0.0.1:60807 - \"OPTIONS /PortfeuilleVar/2/99/1 HTTP/1.1\" 200 OK\n",
      "[[ 7.84937202e-05  3.59191282e-06  7.62226721e-06  2.78971530e-05\n",
      "   1.44880758e-05  4.29331084e-05]\n",
      " [ 3.59191282e-06  1.09855815e-03  5.02533659e-05  4.66958215e-06\n",
      "   9.97503439e-06  2.81674049e-05]\n",
      " [ 7.62226721e-06  5.02533659e-05  1.57217089e-04  5.68144319e-06\n",
      "   1.22209437e-05  7.86950190e-06]\n",
      " [ 2.78971530e-05  4.66958215e-06  5.68144319e-06  2.30824450e-04\n",
      "   1.47274878e-05 -5.20329512e-05]\n",
      " [ 1.44880758e-05  9.97503439e-06  1.22209437e-05  1.47274878e-05\n",
      "   1.09824697e-04 -1.59152625e-05]\n",
      " [ 4.29331084e-05  2.81674049e-05  7.86950190e-06 -5.20329512e-05\n",
      "  -1.59152625e-05  1.18569657e-03]]\n",
      "[[6.8363001e-05]]\n",
      "INFO:     127.0.0.1:60807 - \"GET /PortfeuilleVar/2/99/1 HTTP/1.1\" 200 OK\n"
     ]
    },
    {
     "name": "stderr",
     "output_type": "stream",
     "text": [
      "INFO:     Shutting down\n",
      "INFO:     Waiting for application shutdown.\n",
      "INFO:     Application shutdown complete.\n",
      "INFO:     Finished server process [9340]\n"
     ]
    }
   ],
   "source": [
    "nest_asyncio.apply()\n",
    "uvicorn.run(app, port=8000)"
   ]
  },
  {
   "cell_type": "markdown",
   "metadata": {},
   "source": [
    "n_sims = 1000000\n",
    "rfr = 0\n",
    "time = 30\n",
    "vol = 0.25\n",
    "s0 = 1"
   ]
  },
  {
   "cell_type": "markdown",
   "metadata": {},
   "source": [
    "d= (rfr - 0.5 * vol**2)*(time/252)\n",
    "a= vol * np.sqrt(time/252)\n",
    "r = np.random.normal(0,1,(n_sims,1))\n",
    "GBM_returns = s0 * np.exp(d + a*r)"
   ]
  },
  {
   "cell_type": "markdown",
   "metadata": {},
   "source": [
    "GBM_returns"
   ]
  },
  {
   "cell_type": "markdown",
   "metadata": {},
   "source": [
    "pers = [0.01, 0.1, 1.0, 2.5, 5.0,10.0]\n",
    "var = scs.scoreatpercentile(GBM_returns - 1,pers)\n",
    "var"
   ]
  },
  {
   "cell_type": "markdown",
   "metadata": {},
   "source": [
    "df = pd.DataFrame(var,pers,columns=['Var'])\n",
    "df"
   ]
  },
  {
   "cell_type": "code",
   "execution_count": null,
   "metadata": {},
   "outputs": [],
   "source": []
  }
 ],
 "metadata": {
  "kernelspec": {
   "display_name": "Python 3.9.12 64-bit",
   "language": "python",
   "name": "python3"
  },
  "language_info": {
   "codemirror_mode": {
    "name": "ipython",
    "version": 3
   },
   "file_extension": ".py",
   "mimetype": "text/x-python",
   "name": "python",
   "nbconvert_exporter": "python",
   "pygments_lexer": "ipython3",
   "version": "3.9.12 (tags/v3.9.12:b28265d, Mar 23 2022, 23:52:46) [MSC v.1929 64 bit (AMD64)]"
  },
  "orig_nbformat": 4,
  "vscode": {
   "interpreter": {
    "hash": "11938c6bc6919ae2720b4d5011047913343b08a43b18698fd82dedb0d4417594"
   }
  }
 },
 "nbformat": 4,
 "nbformat_minor": 2
}
